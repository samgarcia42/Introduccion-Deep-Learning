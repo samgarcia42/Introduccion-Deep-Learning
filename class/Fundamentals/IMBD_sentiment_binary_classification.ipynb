{
  "cells": [
    {
      "cell_type": "markdown",
      "metadata": {
        "id": "X_kZXGZ9tjvM"
      },
      "source": [
        "It is highly recommended to use a powerful **GPU**, you can use it for free uploading this notebook to [Google Colab](https://colab.research.google.com/notebooks/intro.ipynb).\n",
        "<table align=\"center\">\n",
        " <td align=\"center\"><a target=\"_blank\" href=\"https://colab.research.google.com/github/ezponda/intro_deep_learning/blob/main/class/Fundamentals/IMBD_sentiment_binary_classification.ipynb\">\n",
        "        <img src=\"https://colab.research.google.com/img/colab_favicon_256px.png\"  width=\"50\" height=\"50\" style=\"padding-bottom:5px;\" />Run in Google Colab</a></td>\n",
        "  <td align=\"center\"><a target=\"_blank\" href=\"https://github.com/ezponda/intro_deep_learning/blob/main/class/Fundamentals/IMBD_sentiment_binary_classification.ipynb\">\n",
        "        <img src=\"https://github.githubassets.com/images/modules/logos_page/GitHub-Mark.png\"  width=\"50\" height=\"50\" style=\"padding-bottom:5px;\" />View Source on GitHub</a></td>\n",
        "</table>"
      ]
    },
    {
      "cell_type": "markdown",
      "metadata": {
        "id": "xQxn_doAtjvU"
      },
      "source": [
        "# Classification Example\n",
        " Two-class classification, or binary classification, may be the most widely applied kind of machine-learning problem. In this example, you’ll learn to classify movie reviews as positive or negative, based on the text content of the reviews.\n"
      ]
    },
    {
      "cell_type": "code",
      "execution_count": 1,
      "metadata": {
        "id": "mQQoyEnztjvZ"
      },
      "outputs": [],
      "source": [
        "import tensorflow as tf\n",
        "from tensorflow import keras\n",
        "from tensorflow.keras import layers\n",
        "import numpy as np\n",
        "tf.random.set_seed(0)"
      ]
    },
    {
      "cell_type": "markdown",
      "metadata": {
        "id": "e_0JX4qntjvd"
      },
      "source": [
        "## The Dataset: The IMDB dataset\n",
        "We’ll work with the IMDB dataset: a set of 50,000 highly polarized reviews from the Internet Movie Database. They’re split into 25,000 reviews for training and 25,000 reviews for testing, each set consisting of 50% negative and 50% positive reviews. The  parameter `num_words` controls how many words different we want to use."
      ]
    },
    {
      "cell_type": "code",
      "execution_count": 2,
      "metadata": {
        "id": "VERX3HRLtjvf",
        "outputId": "8cc05b9f-6ce2-4ebb-b2a9-10fdf1b65ffd",
        "colab": {
          "base_uri": "https://localhost:8080/"
        }
      },
      "outputs": [
        {
          "output_type": "stream",
          "name": "stdout",
          "text": [
            "Downloading data from https://storage.googleapis.com/tensorflow/tf-keras-datasets/imdb.npz\n",
            "\u001b[1m17464789/17464789\u001b[0m \u001b[32m━━━━━━━━━━━━━━━━━━━━\u001b[0m\u001b[37m\u001b[0m \u001b[1m1s\u001b[0m 0us/step\n",
            "[1, 14, 22, 16, 43, 530, 973, 1622, 1385, 65, 458, 4468, 66, 3941, 4, 173, 36, 256, 5, 25, 100, 43, 838, 112, 50, 670, 2, 9, 35, 480, 284, 5, 150, 4, 172, 112, 167, 2, 336, 385, 39, 4, 172, 4536, 1111, 17, 546, 38, 13, 447, 4, 192, 50, 16, 6, 147, 2025, 19, 14, 22, 4, 1920, 4613, 469, 4, 22, 71, 87, 12, 16, 43, 530, 38, 76, 15, 13, 1247, 4, 22, 17, 515, 17, 12, 16, 626, 18, 2, 5, 62, 386, 12, 8, 316, 8, 106, 5, 4, 2223, 5244, 16, 480, 66, 3785, 33, 4, 130, 12, 16, 38, 619, 5, 25, 124, 51, 36, 135, 48, 25, 1415, 33, 6, 22, 12, 215, 28, 77, 52, 5, 14, 407, 16, 82, 2, 8, 4, 107, 117, 5952, 15, 256, 4, 2, 7, 3766, 5, 723, 36, 71, 43, 530, 476, 26, 400, 317, 46, 7, 4, 2, 1029, 13, 104, 88, 4, 381, 15, 297, 98, 32, 2071, 56, 26, 141, 6, 194, 7486, 18, 4, 226, 22, 21, 134, 476, 26, 480, 5, 144, 30, 5535, 18, 51, 36, 28, 224, 92, 25, 104, 4, 226, 65, 16, 38, 1334, 88, 12, 16, 283, 5, 16, 4472, 113, 103, 32, 15, 16, 5345, 19, 178, 32]\n"
          ]
        }
      ],
      "source": [
        "from tensorflow.keras.datasets import imdb\n",
        "num_words = 10000\n",
        "(train_data, train_labels), (test_data, test_labels) = imdb.load_data(num_words=num_words)\n",
        "print(train_data[0])"
      ]
    },
    {
      "cell_type": "code",
      "execution_count": 3,
      "metadata": {
        "id": "YRYfCPoWtjvg",
        "outputId": "d6f2c2bc-d789-4e72-8ba6-df62703edf88",
        "colab": {
          "base_uri": "https://localhost:8080/"
        }
      },
      "outputs": [
        {
          "output_type": "stream",
          "name": "stdout",
          "text": [
            "Downloading data from https://storage.googleapis.com/tensorflow/tf-keras-datasets/imdb_word_index.json\n",
            "\u001b[1m1641221/1641221\u001b[0m \u001b[32m━━━━━━━━━━━━━━━━━━━━\u001b[0m\u001b[37m\u001b[0m \u001b[1m1s\u001b[0m 0us/step\n"
          ]
        }
      ],
      "source": [
        "# Transform word_id to word and reverse\n",
        "word2int = imdb.get_word_index()\n",
        "word2int = {w: i+3 for w, i in word2int.items()}\n",
        "word2int[\"<PAD>\"] = 0\n",
        "word2int[\"<START>\"] = 1\n",
        "word2int[\"<UNK>\"] = 2\n",
        "word2int[\"<UNUSED>\"] = 3\n",
        "int2word = {i: w for w, i in word2int.items()}\n",
        "num_words = num_words+3"
      ]
    },
    {
      "cell_type": "markdown",
      "metadata": {
        "id": "S_74V24utjvi"
      },
      "source": [
        "For transforming an id-sequence to a phrase use get_words"
      ]
    },
    {
      "cell_type": "code",
      "execution_count": 4,
      "metadata": {
        "id": "Iy0BAngWtjvj",
        "outputId": "74bd9f9a-4f26-4ac6-e3ea-0378a332bd0b",
        "colab": {
          "base_uri": "https://localhost:8080/"
        }
      },
      "outputs": [
        {
          "output_type": "stream",
          "name": "stdout",
          "text": [
            "<START> this film was just brilliant casting location scenery story direction everyone's really suited the part they played and you could just imagine being there robert <UNK> is an amazing actor and now the same being director <UNK> father came from the same scottish island as myself so i loved the fact there was a real connection with this film the witty remarks throughout the film were great it was just brilliant so much that i bought the film as soon as it was released for <UNK> and would recommend it to everyone to watch and the fly fishing was amazing really cried at the end it was so sad and you know what they say if you cry at a film it must have been good and this definitely was also <UNK> to the two little boy's that played the <UNK> of norman and paul they were just brilliant children are often left out of the <UNK> list i think because the stars that play them all grown up are such a big profile for the whole film but these children are amazing and should be praised for what they have done don't you think the whole story was so lovely because it was true and was someone's life after all that was shared with us all\n",
            "Sentiment:  1\n"
          ]
        }
      ],
      "source": [
        "def get_words(sentence, int2word):\n",
        "    return ' '.join([int2word.get(i,'<UNK>') for i in sentence])\n",
        "print(get_words(train_data[0], int2word))\n",
        "print('Sentiment: ', train_labels[0])"
      ]
    },
    {
      "cell_type": "markdown",
      "metadata": {
        "id": "8poxpdAZtjvk"
      },
      "source": [
        "## Data Preprocessing\n",
        "\n",
        "You need to convert your raw text to an appropriate input to a sequential model"
      ]
    },
    {
      "cell_type": "code",
      "execution_count": 5,
      "metadata": {
        "id": "Prao4hJktjvl",
        "outputId": "afe8d01b-0e92-4eac-d54e-4d28205415b8",
        "colab": {
          "base_uri": "https://localhost:8080/"
        }
      },
      "outputs": [
        {
          "output_type": "stream",
          "name": "stdout",
          "text": [
            "<START> this film was just brilliant casting location scenery story direction everyone's really suited the part they played and you could just imagine being there robert <UNK> is an amazing actor and now the same being director <UNK> father came from the same scottish island as myself so i loved the fact there was a real connection with this film the witty remarks throughout the film were great it was just brilliant so much that i bought the film as soon as it was released for <UNK> and would recommend it to everyone to watch and the fly fishing was amazing really cried at the end it was so sad and you know what they say if you cry at a film it must have been good and this definitely was also <UNK> to the two little boy's that played the <UNK> of norman and paul they were just brilliant children are often left out of the <UNK> list i think because the stars that play them all grown up are such a big profile for the whole film but these children are amazing and should be praised for what they have done don't you think the whole story was so lovely because it was true and was someone's life after all that was shared with us all\n",
            "[1, 14, 22, 16, 43, 530, 973, 1622, 1385, 65, 458, 4468, 66, 3941, 4, 173, 36, 256, 5, 25, 100, 43, 838, 112, 50, 670, 2, 9, 35, 480, 284, 5, 150, 4, 172, 112, 167, 2, 336, 385, 39, 4, 172, 4536, 1111, 17, 546, 38, 13, 447, 4, 192, 50, 16, 6, 147, 2025, 19, 14, 22, 4, 1920, 4613, 469, 4, 22, 71, 87, 12, 16, 43, 530, 38, 76, 15, 13, 1247, 4, 22, 17, 515, 17, 12, 16, 626, 18, 2, 5, 62, 386, 12, 8, 316, 8, 106, 5, 4, 2223, 5244, 16, 480, 66, 3785, 33, 4, 130, 12, 16, 38, 619, 5, 25, 124, 51, 36, 135, 48, 25, 1415, 33, 6, 22, 12, 215, 28, 77, 52, 5, 14, 407, 16, 82, 2, 8, 4, 107, 117, 5952, 15, 256, 4, 2, 7, 3766, 5, 723, 36, 71, 43, 530, 476, 26, 400, 317, 46, 7, 4, 2, 1029, 13, 104, 88, 4, 381, 15, 297, 98, 32, 2071, 56, 26, 141, 6, 194, 7486, 18, 4, 226, 22, 21, 134, 476, 26, 480, 5, 144, 30, 5535, 18, 51, 36, 28, 224, 92, 25, 104, 4, 226, 65, 16, 38, 1334, 88, 12, 16, 283, 5, 16, 4472, 113, 103, 32, 15, 16, 5345, 19, 178, 32]\n"
          ]
        }
      ],
      "source": [
        "def vectorize_text_sentence(text, word2int):\n",
        "    tokens = text.split(' ')\n",
        "    tokens_id = [word2int.get(tk,2) for tk in tokens]\n",
        "    return tokens_id\n",
        "\n",
        "text = get_words(train_data[0], int2word)\n",
        "print(text)\n",
        "print(vectorize_text_sentence(text, word2int))"
      ]
    },
    {
      "cell_type": "markdown",
      "metadata": {
        "id": "TeYf-_Notjvn"
      },
      "source": [
        "### Bag of Words Model BoW\n",
        "We are going to use a bag of words model. BoW is a simplifying representation used in natural language processing. In this model, a text (such as a sentence or a document) is represented as the Each key is the word, and each value is the frequency of occurrences of that word in the given text document.\n",
        "\n",
        "- **Input document**: `\"John likes to watch movies Mary likes movies too\"`\n",
        "- **BoW**: `{'John': 1, 'likes': 2, 'to': 1, 'watch': 1, 'movies': 2, 'Mary': 1, 'too': 1}`\n",
        "- **BoW Normalized**: `{'John': 0.11, 'likes': 0.22, 'to': 0.11, 'watch': 0.11, 'movies': 0.22, 'Mary': 0.11, 'too': 0.11}`\n"
      ]
    },
    {
      "cell_type": "code",
      "execution_count": 6,
      "metadata": {
        "id": "KHS4Zqzjtjvo",
        "outputId": "3bdec028-b4db-4445-f80c-44aab2fef129",
        "colab": {
          "base_uri": "https://localhost:8080/"
        }
      },
      "outputs": [
        {
          "output_type": "stream",
          "name": "stdout",
          "text": [
            "text_example John likes to watch movies Mary likes movies too\n",
            "text splitted ['John', 'likes', 'to', 'watch', 'movies', 'Mary', 'likes', 'movies', 'too']\n",
            "bag_of_words {'John': 0.1111111111111111, 'likes': 0.2222222222222222, 'to': 0.1111111111111111, 'watch': 0.1111111111111111, 'movies': 0.2222222222222222, 'Mary': 0.1111111111111111, 'too': 0.1111111111111111}\n",
            "bag_of_words norm=False {'John': 1, 'likes': 2, 'to': 1, 'watch': 1, 'movies': 2, 'Mary': 1, 'too': 1}\n",
            "bag_of_words with indexes {308: 1, 1232: 2, 8: 1, 106: 1, 102: 2, 1083: 1, 99: 1}\n"
          ]
        }
      ],
      "source": [
        "from collections import Counter\n",
        "\n",
        "def get_bag_of_words(sequence, norm=True):\n",
        "    word_count = Counter(sequence)\n",
        "    if norm:\n",
        "        total = sum(word_count.values())\n",
        "        word_freq = {w: n / total for w, n in word_count.items()}\n",
        "        return word_freq\n",
        "    else:\n",
        "        return dict(word_count.items())\n",
        "\n",
        "text_example = \"John likes to watch movies Mary likes movies too\"\n",
        "print('text_example', text_example)\n",
        "text_sequence = text_example.split()\n",
        "print('text splitted', text_sequence)\n",
        "bag_of_words = get_bag_of_words(text_sequence)\n",
        "print('bag_of_words', bag_of_words)\n",
        "print('bag_of_words norm=False', get_bag_of_words(text_sequence, norm=False))\n",
        "print(\n",
        "    'bag_of_words with indexes', {\n",
        "        word2int[w.lower()]: p\n",
        "        for w, p in get_bag_of_words(text_sequence, norm=False).items()\n",
        "    })"
      ]
    },
    {
      "cell_type": "markdown",
      "metadata": {
        "id": "EiQIcpkgtjvp"
      },
      "source": [
        "### Document Term Matrix\n",
        "\n",
        "We need a way to model the documents so that they are all the same length, so that we can use a neural network. For this we are going to use the document term matrix.\n",
        "- Every document is a vector with the dimension of the vocabulary.\n",
        "- The position i of the vector corresponds to the word with index i.\n",
        "- The vector is all zeros except for the BoW word positions, which are filled with the frequency of the corresponding word.\n",
        "\n",
        "\n",
        "For example:\n",
        "\n",
        "- D1 = \"I like movies\",  `{'I': 1, 'like': 1, 'movies': 1}`\n",
        "\n",
        "- D2 = \"I dislike movies\",  `{'I': 1, 'dislike': 1, 'movies': 1}`\n",
        "\n",
        "Then the document-term matrix would be:\n",
        "\n",
        "\n",
        "\n",
        "   | Doc| I  | like    | dislike   | movies   |\n",
        "|---:|:-------------|:-----------|:------|:------|\n",
        "| D1 | 1  | 1       | 0   | 1     |\n",
        "| D2 | 1  | 0    | 1   | 1     |\n",
        "\n",
        "$D1 = [1,1,0,1]$\n",
        "\n",
        "$D2 = [1,0,1,1]$\n",
        "\n",
        "We convert every BoW to a vector of `dim=num_words` with `vectorize_sequences`"
      ]
    },
    {
      "cell_type": "code",
      "execution_count": 7,
      "metadata": {
        "id": "NhMeSLQKtjvq",
        "outputId": "237ea9c6-d833-412c-8315-ea0e7773b827",
        "colab": {
          "base_uri": "https://localhost:8080/"
        }
      },
      "outputs": [
        {
          "output_type": "execute_result",
          "data": {
            "text/plain": [
              "((25000, 10003), (25000,))"
            ]
          },
          "metadata": {},
          "execution_count": 7
        }
      ],
      "source": [
        "def vectorize_sequence(sequence, num_words, norm=True):\n",
        "    vec = np.zeros(num_words)\n",
        "    bow = get_bag_of_words(sequence, norm)\n",
        "    for w, freq in bow.items():\n",
        "        if w < num_words:\n",
        "            vec[w] = freq\n",
        "    return vec\n",
        "\n",
        "\n",
        "def vectorize_sequences(sequences, num_words=num_words, norm=True):\n",
        "    \"\"\"Creates an all-zero matrix of shape (len(sequences), num_words)\"\"\"\n",
        "    results = np.zeros((len(sequences), num_words))\n",
        "    for i, sequence in enumerate(sequences):\n",
        "        results[i, :] = vectorize_sequence(sequence, num_words, norm)\n",
        "    return results\n",
        "\n",
        "\n",
        "x_train = vectorize_sequences(train_data, num_words=num_words)\n",
        "x_test = vectorize_sequences(test_data, num_words=num_words)\n",
        "y_train =np.asarray(train_labels).astype('float32')\n",
        "y_test = np.asarray(test_labels).astype('float32')\n",
        "x_train.shape, y_train.shape"
      ]
    },
    {
      "cell_type": "markdown",
      "metadata": {
        "id": "vPrgcCMdtjvr"
      },
      "source": [
        "## Define and train a model\n",
        "\n",
        "Define, compile and fit your NN model\n",
        "\n",
        "1. You can use the [Functional API](https://keras.io/guides/functional_api/):\n",
        "\n",
        "You need to start with an input data entry:\n",
        "```python    \n",
        "    inputs = keras.Input(shape=(8,))\n",
        "    layer_1 = layers.Dense(...)(inputs)\n",
        "```\n",
        "\n",
        "and the network outputs:\n",
        "```python\n",
        "outputs = layers.Dense(...)(previous_layer)\n",
        "model = keras.Model(inputs=inputs, outputs=outputs)\n",
        "```\n",
        "\n",
        "2. Or you can use [Sequential API](https://keras.io/guides/sequential_model/)\n",
        "\n",
        "```python\n",
        "model = keras.Sequential(name='example_model')\n",
        "model.add(layers.Dense(..., input_shape=(8,))\n",
        "model.add(...\n",
        "```\n",
        "\n",
        "You can introduce regularization methods seen in [Prevent_Overfitting.ipynb](https://github.com/ezponda/intro_deep_learning/blob/main/class/Fundamentals/Prevent_Overfitting.ipynb) like [Dropout layer](https://www.tensorflow.org/api_docs/python/tf/keras/layers/Dropout):\n",
        "\n",
        "\n",
        "```python\n",
        "tf.keras.layers.Dropout(\n",
        "    rate, noise_shape=None, seed=None, **kwargs\n",
        ")\n",
        "```\n",
        "\n",
        "With Functional API:\n",
        "```python\n",
        "next_layer = layers.Dropout(0.4)(prev_layer)\n",
        "```\n",
        "With Sequential:\n",
        "```python\n",
        "model.add(layers.Dropout(0.4))\n",
        "```\n",
        "\n",
        "First try with only one hidden layer and see the results."
      ]
    },
    {
      "cell_type": "code",
      "execution_count": 85,
      "metadata": {
        "id": "UzPwd1zOtjvs",
        "outputId": "b7926572-c081-4083-dc03-b373d27c90f4",
        "colab": {
          "base_uri": "https://localhost:8080/",
          "height": 429
        }
      },
      "outputs": [
        {
          "output_type": "stream",
          "name": "stderr",
          "text": [
            "/usr/local/lib/python3.11/dist-packages/keras/src/layers/core/input_layer.py:27: UserWarning: Argument `input_shape` is deprecated. Use `shape` instead.\n",
            "  warnings.warn(\n"
          ]
        },
        {
          "output_type": "display_data",
          "data": {
            "text/plain": [
              "\u001b[1mModel: \"sequential_21\"\u001b[0m\n"
            ],
            "text/html": [
              "<pre style=\"white-space:pre;overflow-x:auto;line-height:normal;font-family:Menlo,'DejaVu Sans Mono',consolas,'Courier New',monospace\"><span style=\"font-weight: bold\">Model: \"sequential_21\"</span>\n",
              "</pre>\n"
            ]
          },
          "metadata": {}
        },
        {
          "output_type": "display_data",
          "data": {
            "text/plain": [
              "┏━━━━━━━━━━━━━━━━━━━━━━━━━━━━━━━━━┳━━━━━━━━━━━━━━━━━━━━━━━━┳━━━━━━━━━━━━━━━┓\n",
              "┃\u001b[1m \u001b[0m\u001b[1mLayer (type)                   \u001b[0m\u001b[1m \u001b[0m┃\u001b[1m \u001b[0m\u001b[1mOutput Shape          \u001b[0m\u001b[1m \u001b[0m┃\u001b[1m \u001b[0m\u001b[1m      Param #\u001b[0m\u001b[1m \u001b[0m┃\n",
              "┡━━━━━━━━━━━━━━━━━━━━━━━━━━━━━━━━━╇━━━━━━━━━━━━━━━━━━━━━━━━╇━━━━━━━━━━━━━━━┩\n",
              "│ layer1 (\u001b[38;5;33mDense\u001b[0m)                  │ (\u001b[38;5;45mNone\u001b[0m, \u001b[38;5;34m256\u001b[0m)            │     \u001b[38;5;34m2,561,024\u001b[0m │\n",
              "├─────────────────────────────────┼────────────────────────┼───────────────┤\n",
              "│ dropout_60 (\u001b[38;5;33mDropout\u001b[0m)            │ (\u001b[38;5;45mNone\u001b[0m, \u001b[38;5;34m256\u001b[0m)            │             \u001b[38;5;34m0\u001b[0m │\n",
              "├─────────────────────────────────┼────────────────────────┼───────────────┤\n",
              "│ layer2 (\u001b[38;5;33mDense\u001b[0m)                  │ (\u001b[38;5;45mNone\u001b[0m, \u001b[38;5;34m128\u001b[0m)            │        \u001b[38;5;34m32,896\u001b[0m │\n",
              "├─────────────────────────────────┼────────────────────────┼───────────────┤\n",
              "│ dropout_61 (\u001b[38;5;33mDropout\u001b[0m)            │ (\u001b[38;5;45mNone\u001b[0m, \u001b[38;5;34m128\u001b[0m)            │             \u001b[38;5;34m0\u001b[0m │\n",
              "├─────────────────────────────────┼────────────────────────┼───────────────┤\n",
              "│ layer3 (\u001b[38;5;33mDense\u001b[0m)                  │ (\u001b[38;5;45mNone\u001b[0m, \u001b[38;5;34m96\u001b[0m)             │        \u001b[38;5;34m12,384\u001b[0m │\n",
              "├─────────────────────────────────┼────────────────────────┼───────────────┤\n",
              "│ dropout_62 (\u001b[38;5;33mDropout\u001b[0m)            │ (\u001b[38;5;45mNone\u001b[0m, \u001b[38;5;34m96\u001b[0m)             │             \u001b[38;5;34m0\u001b[0m │\n",
              "├─────────────────────────────────┼────────────────────────┼───────────────┤\n",
              "│ output_layer (\u001b[38;5;33mDense\u001b[0m)            │ (\u001b[38;5;45mNone\u001b[0m, \u001b[38;5;34m1\u001b[0m)              │            \u001b[38;5;34m97\u001b[0m │\n",
              "└─────────────────────────────────┴────────────────────────┴───────────────┘\n"
            ],
            "text/html": [
              "<pre style=\"white-space:pre;overflow-x:auto;line-height:normal;font-family:Menlo,'DejaVu Sans Mono',consolas,'Courier New',monospace\">┏━━━━━━━━━━━━━━━━━━━━━━━━━━━━━━━━━┳━━━━━━━━━━━━━━━━━━━━━━━━┳━━━━━━━━━━━━━━━┓\n",
              "┃<span style=\"font-weight: bold\"> Layer (type)                    </span>┃<span style=\"font-weight: bold\"> Output Shape           </span>┃<span style=\"font-weight: bold\">       Param # </span>┃\n",
              "┡━━━━━━━━━━━━━━━━━━━━━━━━━━━━━━━━━╇━━━━━━━━━━━━━━━━━━━━━━━━╇━━━━━━━━━━━━━━━┩\n",
              "│ layer1 (<span style=\"color: #0087ff; text-decoration-color: #0087ff\">Dense</span>)                  │ (<span style=\"color: #00d7ff; text-decoration-color: #00d7ff\">None</span>, <span style=\"color: #00af00; text-decoration-color: #00af00\">256</span>)            │     <span style=\"color: #00af00; text-decoration-color: #00af00\">2,561,024</span> │\n",
              "├─────────────────────────────────┼────────────────────────┼───────────────┤\n",
              "│ dropout_60 (<span style=\"color: #0087ff; text-decoration-color: #0087ff\">Dropout</span>)            │ (<span style=\"color: #00d7ff; text-decoration-color: #00d7ff\">None</span>, <span style=\"color: #00af00; text-decoration-color: #00af00\">256</span>)            │             <span style=\"color: #00af00; text-decoration-color: #00af00\">0</span> │\n",
              "├─────────────────────────────────┼────────────────────────┼───────────────┤\n",
              "│ layer2 (<span style=\"color: #0087ff; text-decoration-color: #0087ff\">Dense</span>)                  │ (<span style=\"color: #00d7ff; text-decoration-color: #00d7ff\">None</span>, <span style=\"color: #00af00; text-decoration-color: #00af00\">128</span>)            │        <span style=\"color: #00af00; text-decoration-color: #00af00\">32,896</span> │\n",
              "├─────────────────────────────────┼────────────────────────┼───────────────┤\n",
              "│ dropout_61 (<span style=\"color: #0087ff; text-decoration-color: #0087ff\">Dropout</span>)            │ (<span style=\"color: #00d7ff; text-decoration-color: #00d7ff\">None</span>, <span style=\"color: #00af00; text-decoration-color: #00af00\">128</span>)            │             <span style=\"color: #00af00; text-decoration-color: #00af00\">0</span> │\n",
              "├─────────────────────────────────┼────────────────────────┼───────────────┤\n",
              "│ layer3 (<span style=\"color: #0087ff; text-decoration-color: #0087ff\">Dense</span>)                  │ (<span style=\"color: #00d7ff; text-decoration-color: #00d7ff\">None</span>, <span style=\"color: #00af00; text-decoration-color: #00af00\">96</span>)             │        <span style=\"color: #00af00; text-decoration-color: #00af00\">12,384</span> │\n",
              "├─────────────────────────────────┼────────────────────────┼───────────────┤\n",
              "│ dropout_62 (<span style=\"color: #0087ff; text-decoration-color: #0087ff\">Dropout</span>)            │ (<span style=\"color: #00d7ff; text-decoration-color: #00d7ff\">None</span>, <span style=\"color: #00af00; text-decoration-color: #00af00\">96</span>)             │             <span style=\"color: #00af00; text-decoration-color: #00af00\">0</span> │\n",
              "├─────────────────────────────────┼────────────────────────┼───────────────┤\n",
              "│ output_layer (<span style=\"color: #0087ff; text-decoration-color: #0087ff\">Dense</span>)            │ (<span style=\"color: #00d7ff; text-decoration-color: #00d7ff\">None</span>, <span style=\"color: #00af00; text-decoration-color: #00af00\">1</span>)              │            <span style=\"color: #00af00; text-decoration-color: #00af00\">97</span> │\n",
              "└─────────────────────────────────┴────────────────────────┴───────────────┘\n",
              "</pre>\n"
            ]
          },
          "metadata": {}
        },
        {
          "output_type": "display_data",
          "data": {
            "text/plain": [
              "\u001b[1m Total params: \u001b[0m\u001b[38;5;34m2,606,401\u001b[0m (9.94 MB)\n"
            ],
            "text/html": [
              "<pre style=\"white-space:pre;overflow-x:auto;line-height:normal;font-family:Menlo,'DejaVu Sans Mono',consolas,'Courier New',monospace\"><span style=\"font-weight: bold\"> Total params: </span><span style=\"color: #00af00; text-decoration-color: #00af00\">2,606,401</span> (9.94 MB)\n",
              "</pre>\n"
            ]
          },
          "metadata": {}
        },
        {
          "output_type": "display_data",
          "data": {
            "text/plain": [
              "\u001b[1m Trainable params: \u001b[0m\u001b[38;5;34m2,606,401\u001b[0m (9.94 MB)\n"
            ],
            "text/html": [
              "<pre style=\"white-space:pre;overflow-x:auto;line-height:normal;font-family:Menlo,'DejaVu Sans Mono',consolas,'Courier New',monospace\"><span style=\"font-weight: bold\"> Trainable params: </span><span style=\"color: #00af00; text-decoration-color: #00af00\">2,606,401</span> (9.94 MB)\n",
              "</pre>\n"
            ]
          },
          "metadata": {}
        },
        {
          "output_type": "display_data",
          "data": {
            "text/plain": [
              "\u001b[1m Non-trainable params: \u001b[0m\u001b[38;5;34m0\u001b[0m (0.00 B)\n"
            ],
            "text/html": [
              "<pre style=\"white-space:pre;overflow-x:auto;line-height:normal;font-family:Menlo,'DejaVu Sans Mono',consolas,'Courier New',monospace\"><span style=\"font-weight: bold\"> Non-trainable params: </span><span style=\"color: #00af00; text-decoration-color: #00af00\">0</span> (0.00 B)\n",
              "</pre>\n"
            ]
          },
          "metadata": {}
        }
      ],
      "source": [
        "model_imdb = tf.keras.Sequential()\n",
        "model_imdb.add(layers.InputLayer(input_shape=(num_words,), name='input_layer'))  # entrada\n",
        "\n",
        "#layer1\n",
        "model_imdb.add(layers.Dense(256, activation='relu', name='layer1'))\n",
        "model_imdb.add(layers.Dropout(0.4))\n",
        "\n",
        "#layer2\n",
        "model_imdb.add(layers.Dense(128, activation='relu', name='layer2'))\n",
        "model_imdb.add(layers.Dropout(0.35))\n",
        "\n",
        "#layer3\n",
        "model_imdb.add(layers.Dense(96, activation='relu', name='layer3'))\n",
        "model_imdb.add(layers.Dropout(0.30))\n",
        "\n",
        "\n",
        "#output layer\n",
        "model_imdb.add(layers.Dense(1, activation='sigmoid', name='output_layer'))\n",
        "model_imdb.summary()\n"
      ]
    },
    {
      "cell_type": "code",
      "execution_count": 86,
      "metadata": {
        "id": "M2PdoyCAtjvt",
        "outputId": "fbf69549-3b01-450d-a969-047bff929f67",
        "colab": {
          "base_uri": "https://localhost:8080/"
        }
      },
      "outputs": [
        {
          "output_type": "stream",
          "name": "stdout",
          "text": [
            "Epoch 1/100\n",
            "\u001b[1m1172/1172\u001b[0m \u001b[32m━━━━━━━━━━━━━━━━━━━━\u001b[0m\u001b[37m\u001b[0m \u001b[1m10s\u001b[0m 6ms/step - accuracy: 0.6990 - loss: 0.5237 - val_accuracy: 0.8934 - val_loss: 0.2666\n",
            "Epoch 2/100\n",
            "\u001b[1m1172/1172\u001b[0m \u001b[32m━━━━━━━━━━━━━━━━━━━━\u001b[0m\u001b[37m\u001b[0m \u001b[1m5s\u001b[0m 4ms/step - accuracy: 0.9018 - loss: 0.2485 - val_accuracy: 0.8957 - val_loss: 0.2663\n",
            "Epoch 3/100\n",
            "\u001b[1m1172/1172\u001b[0m \u001b[32m━━━━━━━━━━━━━━━━━━━━\u001b[0m\u001b[37m\u001b[0m \u001b[1m5s\u001b[0m 3ms/step - accuracy: 0.9354 - loss: 0.1807 - val_accuracy: 0.8917 - val_loss: 0.2866\n",
            "Epoch 4/100\n",
            "\u001b[1m1172/1172\u001b[0m \u001b[32m━━━━━━━━━━━━━━━━━━━━\u001b[0m\u001b[37m\u001b[0m \u001b[1m5s\u001b[0m 4ms/step - accuracy: 0.9505 - loss: 0.1393 - val_accuracy: 0.8811 - val_loss: 0.3119\n",
            "Epoch 5/100\n",
            "\u001b[1m1172/1172\u001b[0m \u001b[32m━━━━━━━━━━━━━━━━━━━━\u001b[0m\u001b[37m\u001b[0m \u001b[1m5s\u001b[0m 4ms/step - accuracy: 0.9590 - loss: 0.1154 - val_accuracy: 0.8765 - val_loss: 0.3874\n",
            "Epoch 6/100\n",
            "\u001b[1m1172/1172\u001b[0m \u001b[32m━━━━━━━━━━━━━━━━━━━━\u001b[0m\u001b[37m\u001b[0m \u001b[1m4s\u001b[0m 4ms/step - accuracy: 0.9682 - loss: 0.0912 - val_accuracy: 0.8806 - val_loss: 0.4488\n",
            "Epoch 7/100\n",
            "\u001b[1m1172/1172\u001b[0m \u001b[32m━━━━━━━━━━━━━━━━━━━━\u001b[0m\u001b[37m\u001b[0m \u001b[1m4s\u001b[0m 4ms/step - accuracy: 0.9726 - loss: 0.0800 - val_accuracy: 0.8893 - val_loss: 0.4132\n",
            "Epoch 8/100\n",
            "\u001b[1m1172/1172\u001b[0m \u001b[32m━━━━━━━━━━━━━━━━━━━━\u001b[0m\u001b[37m\u001b[0m \u001b[1m4s\u001b[0m 4ms/step - accuracy: 0.9776 - loss: 0.0623 - val_accuracy: 0.8853 - val_loss: 0.4902\n",
            "Epoch 9/100\n",
            "\u001b[1m1172/1172\u001b[0m \u001b[32m━━━━━━━━━━━━━━━━━━━━\u001b[0m\u001b[37m\u001b[0m \u001b[1m5s\u001b[0m 4ms/step - accuracy: 0.9804 - loss: 0.0569 - val_accuracy: 0.8843 - val_loss: 0.4378\n",
            "Epoch 10/100\n",
            "\u001b[1m1172/1172\u001b[0m \u001b[32m━━━━━━━━━━━━━━━━━━━━\u001b[0m\u001b[37m\u001b[0m \u001b[1m4s\u001b[0m 4ms/step - accuracy: 0.9828 - loss: 0.0502 - val_accuracy: 0.8864 - val_loss: 0.4896\n",
            "Epoch 11/100\n",
            "\u001b[1m1172/1172\u001b[0m \u001b[32m━━━━━━━━━━━━━━━━━━━━\u001b[0m\u001b[37m\u001b[0m \u001b[1m4s\u001b[0m 3ms/step - accuracy: 0.9845 - loss: 0.0422 - val_accuracy: 0.8843 - val_loss: 0.5428\n",
            "Epoch 11: early stopping\n",
            "Restoring model weights from the end of the best epoch: 1.\n"
          ]
        }
      ],
      "source": [
        "es_callback = keras.callbacks.EarlyStopping(\n",
        "    monitor='val_loss',# can be 'val_accuracy'\n",
        "    min_delta=0.001,\n",
        "    patience=10,  # if during 5 epochs there is no improvement in `val_loss`, the execution will stop\n",
        "    restore_best_weights=True,\n",
        "    verbose=1)\n",
        "\n",
        "model_imdb.compile(\n",
        "    optimizer='adam',\n",
        "    loss='binary_crossentropy',\n",
        "    metrics=['accuracy'],\n",
        ")\n",
        "history = model_imdb.fit(x_train, y_train, validation_split=0.25, epochs= 100, batch_size=16, callbacks=[es_callback]\n",
        ")"
      ]
    },
    {
      "cell_type": "code",
      "execution_count": 15,
      "metadata": {
        "id": "c9Shsqwutjvu",
        "outputId": "1462b5bf-1761-4331-cb6b-3f3111a05914",
        "colab": {
          "base_uri": "https://localhost:8080/",
          "height": 479
        }
      },
      "outputs": [
        {
          "output_type": "display_data",
          "data": {
            "text/plain": [
              "<Figure size 1600x600 with 2 Axes>"
            ],
            "image/png": "[encoded data removed]"
          },
          "metadata": {}
        }
      ],
      "source": [
        "import matplotlib.pyplot as plt\n",
        "import pandas as pd\n",
        "def show_loss_accuracy_evolution(hist):\n",
        "\n",
        "    fig, (ax1, ax2) = plt.subplots(1, 2, figsize=(16, 6))\n",
        "\n",
        "    ax1.set_xlabel('Epoch')\n",
        "    ax1.set_ylabel('Sparse Categorical Crossentropy')\n",
        "    ax1.plot(hist['epoch'], hist['loss'], label='Train Error')\n",
        "    ax1.plot(hist['epoch'], hist['val_loss'], label = 'Val Error')\n",
        "    ax1.grid()\n",
        "    ax1.legend()\n",
        "\n",
        "    ax2.set_xlabel('Epoch')\n",
        "    ax2.set_ylabel('Accuracy')\n",
        "    ax2.plot(hist['epoch'], hist['accuracy'], label='Train Accuracy')\n",
        "    ax2.plot(hist['epoch'], hist['val_accuracy'], label = 'Val Accuracy')\n",
        "    ax2.grid()\n",
        "    ax2.legend()\n",
        "\n",
        "    plt.show()\n",
        "\n",
        "hist = pd.DataFrame(history.history)\n",
        "hist['epoch'] = history.epoch\n",
        "show_loss_accuracy_evolution(hist)"
      ]
    },
    {
      "cell_type": "markdown",
      "metadata": {
        "id": "gZbvJQZitjvu"
      },
      "source": [
        "### Evaluate the model\n",
        "You need to obtain a Test Accuracy > 0.85. Try to get more than 0.9!"
      ]
    },
    {
      "cell_type": "code",
      "execution_count": 88,
      "metadata": {
        "id": "YOAxotFztjvv",
        "outputId": "2a7afdb8-f722-4fb4-f1d7-b832761c792c",
        "colab": {
          "base_uri": "https://localhost:8080/"
        }
      },
      "outputs": [
        {
          "output_type": "stream",
          "name": "stdout",
          "text": [
            "\u001b[1m782/782\u001b[0m \u001b[32m━━━━━━━━━━━━━━━━━━━━\u001b[0m\u001b[37m\u001b[0m \u001b[1m2s\u001b[0m 3ms/step - accuracy: 0.8862 - loss: 0.2817\n",
            "Test Loss: 0.2804868519306183\n",
            "Test Accuracy: 0.8870000243186951\n"
          ]
        }
      ],
      "source": [
        "results = model_imdb.evaluate(x_test, y_test, verbose=1)\n",
        "print('Test Loss: {}'.format(results[0]))\n",
        "print('Test Accuracy: {}'.format(results[1]))"
      ]
    },
    {
      "cell_type": "code",
      "execution_count": 89,
      "metadata": {
        "id": "31-e3EK0tjvv",
        "outputId": "ce79a9f2-3306-43d5-908d-0e0cef1e4dde",
        "colab": {
          "base_uri": "https://localhost:8080/"
        }
      },
      "outputs": [
        {
          "output_type": "stream",
          "name": "stdout",
          "text": [
            "\u001b[1m782/782\u001b[0m \u001b[32m━━━━━━━━━━━━━━━━━━━━\u001b[0m\u001b[37m\u001b[0m \u001b[1m2s\u001b[0m 2ms/step\n",
            "Predicted : 0, real : 1.0, lenght: 212\n",
            "<START> of course going into it one would expect it to be a typical stupid t a flick and it is but it really does have some fairly well thought out humorous moments given the era in which it was made and the obvious exploitation aspect it is still one of the better b comedies of the time br br while watching this movie you will see quite obviously the inspiration for many of the scenes in revenge of the <UNK> and numerous other films of the same genre most of the acting is horrible and way over the top but that's exactly what i expect in a movie like this what it lacks in the way of acting ability it more than makes up for with its camp value and complete disregard for anything of merit br br the amazing thing about this movie is that there was obviously some money that went into it films like this made today just don't have the same style if you can turn your brain off and turn your sense of humor up for an hour and a half you will enjoy this flick i dare anyone to not find at least something in this movie that they think is funny if not hilarious\n",
            "\n",
            "Predicted : 1, real : 0.0, lenght: 133\n",
            "<START> well there were some great <UNK> smooth facial shots of marlene along with her shocking gender <UNK> outfit plus her not to be missed from ape into human being but overall the generally unconvincing plot and dated acting not to mention the less than engaging tunes coming from miss <UNK> <UNK> voice did little to ensure blonde <UNK> a permanent place in my <UNK> <UNK> of memorable films cary grant still in the <UNK> of cinematic <UNK> seemed as though he was forever looking to find himself while herbert marshall was probably never anything but herbert marshall from the day he was born until the day he died naturally from an historical point of view blonde <UNK> was fun to watch so long as one was able to put aside great expectations\n",
            "\n",
            "Predicted : 1, real : 0.0, lenght: 109\n",
            "<START> shadows and fog is surely one of woody allen's weakest films right up there with september and hollywood ending though nothing allen has done equals the awfulness of anything else br br shadows and fog is allen's homage to the german <UNK> style of film making all stark and stylized light and shadow and you guessed it lots of fog but you can tell allen got caught up in the technique and the parody and forgot to make a movie that anyone would care about br br luckily he made husbands and wives the same year so things weren't a total wash for him br br grade d\n",
            "\n",
            "Predicted : 1, real : 0.0, lenght: 362\n",
            "<START> i agree that mary <UNK> secretary is one of the only good things about this film she is my favorite actress ever every role she plays is always done so well her character is sly sarcastic clever light hearted funny and cunning she really pulls this role off well and you get a good feel for what her character is all about br br the rest of the movie is pretty bad the music is the most entertaining thing left one of the characters has this really strange <UNK> radio that she brings with her while she wears her tight <UNK> <UNK> tank top br br one thing that was a little intriguing about the story was the idea that someone hires these three college aged kids to <UNK> up an old abandoned theater he gives them the keys and says go at it that would be really fun and i wish someone would give me that chance imagine going into an old abandoned theater with two other people and you get to decide how to <UNK> it and fix it up you have total control over the whole building that would be so fun unfortunately the characters do not think of this as an exciting adventure they think of it as a big chore they walk around with long faces and fight with each other the whole time it's kind of a <UNK> but it's fun to think about the possibilities that these people aren't even excited about br br the movie does a pretty good job at making you feel helpless or a little <UNK> out by the theater itself however the acting besides <UNK> and possibly <UNK> the boss just because makes a really good money hungry fake <UNK> business man who never has any luck is really horrible and you just end up feeling <UNK> plus the random slapstick is a little tacky and kind of ruins the reality that the film tries to create br br watch this if you dig mary <UNK> funky 80's <UNK> keyboard style electronic beats and if you think having a giant spooky abandoned theater to yourself is at all intriguing\n",
            "\n",
            "Predicted : 0, real : 1.0, lenght: 22\n",
            "<START> for pure gothic vampire cheese nothing can compare to the <UNK> films i highly recommend each and every one of them\n",
            "\n",
            "Predicted : 0, real : 1.0, lenght: 469\n",
            "<START> as talk shows go larry king live is not bad and since he occasionally gets good guests it's a show to turn on once in awhile but not <UNK> when bill <UNK> carl <UNK> a former president or other <UNK> guests sit across from him it's not too bad other times he tends to host guests involved in the latest celebrity scandal which contributes absolutely no intelligent information to the country and <UNK> a largely <UNK> public that wants to hear the latest <UNK> about movie and tv stars during the <UNK> simpson trial it seemed like every other guest on his show was related to the case but is this really <UNK> or the national <UNK> on the tube sometimes it comes off a little bit like trash television jerry springer in a sit down interview with phone calls instead of a live audience br br on the other side king's show is definitely much better than bill <UNK> whose show is nothing more than a political platform of the rush <UNK> variety that said larry king is not a bad <UNK> but alas he is not a great one king does not always come off like he completely when intellectual material is being presented especially if it is by a <UNK> or <UNK> with a new book on subtle aspects of politics always seems like the minute king can't quite deal with the issue at hand that's when he turns to the phone calls maybe hoping someone out in the country will have a better question than he has he might interview someone like david but may not have read any of his books sort of like the movie producer that never bothers to read the script br br when it's an entertainment celebrity no problem he can come off like he's thoroughly <UNK> since the material is not that <UNK> anyway talking to elizabeth taylor about her relationship with richard burton is not exactly rocket science and i notice he usually has seen the <UNK> latest movie watching a movie takes much less time and <UNK> than reading a book however if it's the likes of john dean or bob <UNK> king comes off a little like he didn't quite finish his <UNK> so off to the phones br br if you are looking for real in depth <UNK> terry gross of <UNK> is probably the best <UNK> in the united states she reads and or <UNK> everything written by or about her guests beforehand and has a working knowledge of those areas i don't see king quite doing that granted he probably has an audience 1000 times larger than terry gross which may say more about the american audience than king in short larry is better than bill but not as good as terry\n",
            "\n",
            "Predicted : 1, real : 0.0, lenght: 148\n",
            "<START> i had seen in <UNK> and the new <UNK> so i thought i'd give this film a try br br at around 4 <UNK> i bought it at around <UNK> i started to watch at around 8 i fast <UNK> the remaining film to see if there was anything left watchable for a human being with a brain but there wasn't at around 8 i threw the dvd into the <UNK> and that's where this film belongs br br what ever happened to british humour the humour so fine and witty intelligent and <UNK> that you find in yes minister <UNK> <UNK> of <UNK> <UNK> towers or the fast show the black humour britain is so famous for i don't want to insult anybody but i presume even stupid children wouldn't find this funny they deserve more intelligent fun and you can do better so please do\n",
            "\n",
            "Predicted : 1, real : 0.0, lenght: 311\n",
            "<START> i saw this film when it first came out and hated it i just saw it again 27 years later i actually liked some of it although robin williams was totally wrong for the role what i remember most about hating the film is that it was almost the complete opposite of what i had understood when i read the book since i haven't re read it i can only give you my impressions from the past but i am sure of one thing the film is a <UNK> to family life whereas in the book almost all traditional <UNK> including and perhaps especially marriage are shown to be <UNK> <UNK> that we would be well rid of the only positive in the book is the wondrous nature of children something that only the very beginning and ending of the film really captures with that incredibly gorgeous baby floating in the air too bad williams doesn't have a <UNK> of his charm my low mark is therefore from the fact that the film <UNK> the book as a film on its own it <UNK> better but only for a few key performances mary beth hurt is wonderful i think anyone watching it would fall in love with her and john <UNK> as an ex football player who has had a sex change operation is fantastic he never once <UNK> it up or made the character anything but commendable and as such his performance had an incredibly integrity i watched him closely during all of his scenes and never once was he anything except <UNK> nothing in his performance ever came near the performance of a drag queen and that made all the difference in fact of all the people in the film his is the only one which is <UNK> it is worth seeing this film only for his performance\n",
            "\n",
            "Predicted : 0, real : 1.0, lenght: 211\n",
            "<START> death wish 3 brings back charles bronson as one time vigilante paul now retired yeah right before long is back to his old ways but this time its not just a few <UNK> at a time its a gang who have taken over a run down part of the city new york again by the way this time its war so out the big guns literally for this the body count <UNK> his one rivals anything stallone or <UNK> have come up with this movie is actually somewhat fun to watch particularly for a few one liners and of course bad guys die or get severely injured in creative ways which is always a good thing the violence is not as personal in this one its obviously on a much <UNK> scale sort of like bombing your victims from <UNK> rather than one on one combat this movie is lighter in tone than the 1st 2 making it easier to watch there's not much <UNK> to this film its more <UNK> than anything its also cheesy at times and pseudo inspirational but <UNK> scenes fall flat they should have left the original death wish on its own without sequels but since they didn't they should have stopped here 8 10\n",
            "\n",
            "Predicted : 0, real : 1.0, lenght: 225\n",
            "<START> late night on <UNK> was on my way to bed but curiosity <UNK> at a contemporary set irish film so i stayed to watch for a few minutes and then stayed to the end i have to admit that the main attraction was the only english actress kelly <UNK> who is stunning to look at br br this is billed as a black comedy which is one of the hardest things to pull off it should be the perfect blend of horror and horrible laughs so that in the end you don't know why you're laughing for me martin <UNK> after hours 1985 is the best example dead bodies is more black than comedy but the plot <UNK> along and <UNK> down towards further <UNK> i didn't spot the final twists in the tale as some other posters here did so i was suitably surprised br br as a <UNK> of the irish film industry in 2003 it all seems rather worthy it doesn't look like they spent too much on the making of it so it had a chance to make its money back the script could've been a whole lot <UNK> but the acting was on the whole pretty good i'm glad i watched it flaws and all tho i don't think i <UNK> much about ireland today especially their <UNK> methods\n",
            "\n"
          ]
        }
      ],
      "source": [
        "def show_errors(x_test, model, labels, int2word, n_samples=10):\n",
        "    preds = 1.0 * (model.predict(x_test).flatten() > 0.5)\n",
        "    bad_pred_inds = np.where(preds != labels)[0]\n",
        "    n_samples = min(len(bad_pred_inds), n_samples)\n",
        "    samples_inds = np.random.choice(bad_pred_inds, n_samples)\n",
        "    for ind in samples_inds:\n",
        "        print('Predicted : {0}, real : {1}, lenght: {2}'.format(\n",
        "            int(preds[ind]), labels[ind], len(test_data[ind])))\n",
        "        print(get_words(test_data[ind], int2word))\n",
        "        print()\n",
        "    return\n",
        "\n",
        "show_errors(x_test, model_imdb, y_test, int2word, n_samples=10)"
      ]
    },
    {
      "cell_type": "markdown",
      "metadata": {
        "id": "ruZhcsDotjvw"
      },
      "source": [
        "### Making predictioins with new data"
      ]
    },
    {
      "cell_type": "code",
      "execution_count": 91,
      "metadata": {
        "id": "ZRMp9BfMtjvw",
        "outputId": "cc442e68-b55e-401d-a037-f0b6669477e4",
        "colab": {
          "base_uri": "https://localhost:8080/"
        }
      },
      "outputs": [
        {
          "output_type": "stream",
          "name": "stdout",
          "text": [
            "\u001b[1m1/1\u001b[0m \u001b[32m━━━━━━━━━━━━━━━━━━━━\u001b[0m\u001b[37m\u001b[0m \u001b[1m0s\u001b[0m 332ms/step\n",
            "\n",
            "the film was really bad and i am very disappointed\n",
            "Sentiment:  0.0\n",
            "\n",
            "The film was very funny entertaining and good we had a great time . brilliant film\n",
            "Sentiment:  1.0\n",
            "\n",
            "this film was just brilliant\n",
            "Sentiment:  0.97\n",
            "\n",
            "the movie is not bad\n",
            "Sentiment:  0.0\n",
            "\n",
            "the movie is not bad I like it\n",
            "Sentiment:  0.0\n"
          ]
        }
      ],
      "source": [
        "reviews = ['the film was really bad and i am very disappointed',\n",
        "           'The film was very funny entertaining and good we had a great time . brilliant film',\n",
        "           'this film was just brilliant',\n",
        "           'the movie is not bad',\n",
        "           'the movie is not bad I like it'\n",
        "]\n",
        "sequences = [vectorize_text_sentence(review.lower(), word2int)\n",
        "             for review in reviews]\n",
        "\n",
        "x_pred = vectorize_sequences(sequences, num_words=num_words)\n",
        "predictions = model_imdb.predict(x_pred)\n",
        "for review, pred in zip(reviews, predictions.flatten()):\n",
        "    print()\n",
        "    print(review)\n",
        "    print('Sentiment: ', np.round(pred, 2))"
      ]
    },
    {
      "cell_type": "code",
      "execution_count": null,
      "metadata": {
        "id": "n6Orv7m7tjvx"
      },
      "outputs": [],
      "source": [
        "1.0*(model.predict(x_pred) > 0.5)"
      ]
    },
    {
      "cell_type": "markdown",
      "metadata": {
        "id": "ADuabSGWtjvy"
      },
      "source": [
        "### Question 1: Repeat the process with unnormalized bag of words, compare results"
      ]
    },
    {
      "cell_type": "code",
      "execution_count": 8,
      "metadata": {
        "id": "BajxQUTUtjvy",
        "outputId": "bc05c4cf-5ff5-4447-c361-02a0e8ba7c99",
        "colab": {
          "base_uri": "https://localhost:8080/"
        }
      },
      "outputs": [
        {
          "output_type": "execute_result",
          "data": {
            "text/plain": [
              "((25000, 10003), (25000,))"
            ]
          },
          "metadata": {},
          "execution_count": 8
        }
      ],
      "source": [
        "x_train = vectorize_sequences(train_data, num_words=num_words, norm=False)\n",
        "x_test = vectorize_sequences(test_data, num_words=num_words, norm=False)\n",
        "y_train =np.asarray(train_labels).astype('float32')\n",
        "y_test = np.asarray(test_labels).astype('float32')\n",
        "x_train.shape, y_train.shape"
      ]
    },
    {
      "cell_type": "code",
      "execution_count": 9,
      "metadata": {
        "id": "qxfvEFpitjvy",
        "outputId": "41b77f6d-8968-42cc-dd6a-2331678d3deb",
        "colab": {
          "base_uri": "https://localhost:8080/",
          "height": 429
        }
      },
      "outputs": [
        {
          "output_type": "stream",
          "name": "stderr",
          "text": [
            "/usr/local/lib/python3.11/dist-packages/keras/src/layers/core/input_layer.py:27: UserWarning: Argument `input_shape` is deprecated. Use `shape` instead.\n",
            "  warnings.warn(\n"
          ]
        },
        {
          "output_type": "display_data",
          "data": {
            "text/plain": [
              "\u001b[1mModel: \"sequential\"\u001b[0m\n"
            ],
            "text/html": [
              "<pre style=\"white-space:pre;overflow-x:auto;line-height:normal;font-family:Menlo,'DejaVu Sans Mono',consolas,'Courier New',monospace\"><span style=\"font-weight: bold\">Model: \"sequential\"</span>\n",
              "</pre>\n"
            ]
          },
          "metadata": {}
        },
        {
          "output_type": "display_data",
          "data": {
            "text/plain": [
              "┏━━━━━━━━━━━━━━━━━━━━━━━━━━━━━━━━━┳━━━━━━━━━━━━━━━━━━━━━━━━┳━━━━━━━━━━━━━━━┓\n",
              "┃\u001b[1m \u001b[0m\u001b[1mLayer (type)                   \u001b[0m\u001b[1m \u001b[0m┃\u001b[1m \u001b[0m\u001b[1mOutput Shape          \u001b[0m\u001b[1m \u001b[0m┃\u001b[1m \u001b[0m\u001b[1m      Param #\u001b[0m\u001b[1m \u001b[0m┃\n",
              "┡━━━━━━━━━━━━━━━━━━━━━━━━━━━━━━━━━╇━━━━━━━━━━━━━━━━━━━━━━━━╇━━━━━━━━━━━━━━━┩\n",
              "│ layer1 (\u001b[38;5;33mDense\u001b[0m)                  │ (\u001b[38;5;45mNone\u001b[0m, \u001b[38;5;34m256\u001b[0m)            │     \u001b[38;5;34m2,561,024\u001b[0m │\n",
              "├─────────────────────────────────┼────────────────────────┼───────────────┤\n",
              "│ dropout (\u001b[38;5;33mDropout\u001b[0m)               │ (\u001b[38;5;45mNone\u001b[0m, \u001b[38;5;34m256\u001b[0m)            │             \u001b[38;5;34m0\u001b[0m │\n",
              "├─────────────────────────────────┼────────────────────────┼───────────────┤\n",
              "│ layer2 (\u001b[38;5;33mDense\u001b[0m)                  │ (\u001b[38;5;45mNone\u001b[0m, \u001b[38;5;34m128\u001b[0m)            │        \u001b[38;5;34m32,896\u001b[0m │\n",
              "├─────────────────────────────────┼────────────────────────┼───────────────┤\n",
              "│ dropout_1 (\u001b[38;5;33mDropout\u001b[0m)             │ (\u001b[38;5;45mNone\u001b[0m, \u001b[38;5;34m128\u001b[0m)            │             \u001b[38;5;34m0\u001b[0m │\n",
              "├─────────────────────────────────┼────────────────────────┼───────────────┤\n",
              "│ layer3 (\u001b[38;5;33mDense\u001b[0m)                  │ (\u001b[38;5;45mNone\u001b[0m, \u001b[38;5;34m96\u001b[0m)             │        \u001b[38;5;34m12,384\u001b[0m │\n",
              "├─────────────────────────────────┼────────────────────────┼───────────────┤\n",
              "│ dropout_2 (\u001b[38;5;33mDropout\u001b[0m)             │ (\u001b[38;5;45mNone\u001b[0m, \u001b[38;5;34m96\u001b[0m)             │             \u001b[38;5;34m0\u001b[0m │\n",
              "├─────────────────────────────────┼────────────────────────┼───────────────┤\n",
              "│ output_layer (\u001b[38;5;33mDense\u001b[0m)            │ (\u001b[38;5;45mNone\u001b[0m, \u001b[38;5;34m1\u001b[0m)              │            \u001b[38;5;34m97\u001b[0m │\n",
              "└─────────────────────────────────┴────────────────────────┴───────────────┘\n"
            ],
            "text/html": [
              "<pre style=\"white-space:pre;overflow-x:auto;line-height:normal;font-family:Menlo,'DejaVu Sans Mono',consolas,'Courier New',monospace\">┏━━━━━━━━━━━━━━━━━━━━━━━━━━━━━━━━━┳━━━━━━━━━━━━━━━━━━━━━━━━┳━━━━━━━━━━━━━━━┓\n",
              "┃<span style=\"font-weight: bold\"> Layer (type)                    </span>┃<span style=\"font-weight: bold\"> Output Shape           </span>┃<span style=\"font-weight: bold\">       Param # </span>┃\n",
              "┡━━━━━━━━━━━━━━━━━━━━━━━━━━━━━━━━━╇━━━━━━━━━━━━━━━━━━━━━━━━╇━━━━━━━━━━━━━━━┩\n",
              "│ layer1 (<span style=\"color: #0087ff; text-decoration-color: #0087ff\">Dense</span>)                  │ (<span style=\"color: #00d7ff; text-decoration-color: #00d7ff\">None</span>, <span style=\"color: #00af00; text-decoration-color: #00af00\">256</span>)            │     <span style=\"color: #00af00; text-decoration-color: #00af00\">2,561,024</span> │\n",
              "├─────────────────────────────────┼────────────────────────┼───────────────┤\n",
              "│ dropout (<span style=\"color: #0087ff; text-decoration-color: #0087ff\">Dropout</span>)               │ (<span style=\"color: #00d7ff; text-decoration-color: #00d7ff\">None</span>, <span style=\"color: #00af00; text-decoration-color: #00af00\">256</span>)            │             <span style=\"color: #00af00; text-decoration-color: #00af00\">0</span> │\n",
              "├─────────────────────────────────┼────────────────────────┼───────────────┤\n",
              "│ layer2 (<span style=\"color: #0087ff; text-decoration-color: #0087ff\">Dense</span>)                  │ (<span style=\"color: #00d7ff; text-decoration-color: #00d7ff\">None</span>, <span style=\"color: #00af00; text-decoration-color: #00af00\">128</span>)            │        <span style=\"color: #00af00; text-decoration-color: #00af00\">32,896</span> │\n",
              "├─────────────────────────────────┼────────────────────────┼───────────────┤\n",
              "│ dropout_1 (<span style=\"color: #0087ff; text-decoration-color: #0087ff\">Dropout</span>)             │ (<span style=\"color: #00d7ff; text-decoration-color: #00d7ff\">None</span>, <span style=\"color: #00af00; text-decoration-color: #00af00\">128</span>)            │             <span style=\"color: #00af00; text-decoration-color: #00af00\">0</span> │\n",
              "├─────────────────────────────────┼────────────────────────┼───────────────┤\n",
              "│ layer3 (<span style=\"color: #0087ff; text-decoration-color: #0087ff\">Dense</span>)                  │ (<span style=\"color: #00d7ff; text-decoration-color: #00d7ff\">None</span>, <span style=\"color: #00af00; text-decoration-color: #00af00\">96</span>)             │        <span style=\"color: #00af00; text-decoration-color: #00af00\">12,384</span> │\n",
              "├─────────────────────────────────┼────────────────────────┼───────────────┤\n",
              "│ dropout_2 (<span style=\"color: #0087ff; text-decoration-color: #0087ff\">Dropout</span>)             │ (<span style=\"color: #00d7ff; text-decoration-color: #00d7ff\">None</span>, <span style=\"color: #00af00; text-decoration-color: #00af00\">96</span>)             │             <span style=\"color: #00af00; text-decoration-color: #00af00\">0</span> │\n",
              "├─────────────────────────────────┼────────────────────────┼───────────────┤\n",
              "│ output_layer (<span style=\"color: #0087ff; text-decoration-color: #0087ff\">Dense</span>)            │ (<span style=\"color: #00d7ff; text-decoration-color: #00d7ff\">None</span>, <span style=\"color: #00af00; text-decoration-color: #00af00\">1</span>)              │            <span style=\"color: #00af00; text-decoration-color: #00af00\">97</span> │\n",
              "└─────────────────────────────────┴────────────────────────┴───────────────┘\n",
              "</pre>\n"
            ]
          },
          "metadata": {}
        },
        {
          "output_type": "display_data",
          "data": {
            "text/plain": [
              "\u001b[1m Total params: \u001b[0m\u001b[38;5;34m2,606,401\u001b[0m (9.94 MB)\n"
            ],
            "text/html": [
              "<pre style=\"white-space:pre;overflow-x:auto;line-height:normal;font-family:Menlo,'DejaVu Sans Mono',consolas,'Courier New',monospace\"><span style=\"font-weight: bold\"> Total params: </span><span style=\"color: #00af00; text-decoration-color: #00af00\">2,606,401</span> (9.94 MB)\n",
              "</pre>\n"
            ]
          },
          "metadata": {}
        },
        {
          "output_type": "display_data",
          "data": {
            "text/plain": [
              "\u001b[1m Trainable params: \u001b[0m\u001b[38;5;34m2,606,401\u001b[0m (9.94 MB)\n"
            ],
            "text/html": [
              "<pre style=\"white-space:pre;overflow-x:auto;line-height:normal;font-family:Menlo,'DejaVu Sans Mono',consolas,'Courier New',monospace\"><span style=\"font-weight: bold\"> Trainable params: </span><span style=\"color: #00af00; text-decoration-color: #00af00\">2,606,401</span> (9.94 MB)\n",
              "</pre>\n"
            ]
          },
          "metadata": {}
        },
        {
          "output_type": "display_data",
          "data": {
            "text/plain": [
              "\u001b[1m Non-trainable params: \u001b[0m\u001b[38;5;34m0\u001b[0m (0.00 B)\n"
            ],
            "text/html": [
              "<pre style=\"white-space:pre;overflow-x:auto;line-height:normal;font-family:Menlo,'DejaVu Sans Mono',consolas,'Courier New',monospace\"><span style=\"font-weight: bold\"> Non-trainable params: </span><span style=\"color: #00af00; text-decoration-color: #00af00\">0</span> (0.00 B)\n",
              "</pre>\n"
            ]
          },
          "metadata": {}
        }
      ],
      "source": [
        "model_imdb = tf.keras.Sequential()\n",
        "model_imdb.add(layers.InputLayer(input_shape=(num_words,), name='input_layer'))  # entrada\n",
        "\n",
        "#layer1\n",
        "model_imdb.add(layers.Dense(256, activation='relu', name='layer1'))\n",
        "model_imdb.add(layers.Dropout(0.4))\n",
        "\n",
        "#layer2\n",
        "model_imdb.add(layers.Dense(128, activation='relu', name='layer2'))\n",
        "model_imdb.add(layers.Dropout(0.35))\n",
        "\n",
        "#layer3\n",
        "model_imdb.add(layers.Dense(96, activation='relu', name='layer3'))\n",
        "model_imdb.add(layers.Dropout(0.30))\n",
        "\n",
        "\n",
        "#output layer\n",
        "model_imdb.add(layers.Dense(1, activation='sigmoid', name='output_layer'))\n",
        "model_imdb.summary()\n"
      ]
    },
    {
      "cell_type": "code",
      "execution_count": 11,
      "metadata": {
        "id": "s7hn318ctjvz",
        "outputId": "44055a6b-f1e1-4731-823c-1ad01fde7644",
        "colab": {
          "base_uri": "https://localhost:8080/"
        }
      },
      "outputs": [
        {
          "output_type": "stream",
          "name": "stdout",
          "text": [
            "Epoch 1/10\n",
            "\u001b[1m1172/1172\u001b[0m \u001b[32m━━━━━━━━━━━━━━━━━━━━\u001b[0m\u001b[37m\u001b[0m \u001b[1m10s\u001b[0m 6ms/step - accuracy: 0.9035 - loss: 0.2534 - val_accuracy: 0.8907 - val_loss: 0.3110\n",
            "Epoch 2/10\n",
            "\u001b[1m1172/1172\u001b[0m \u001b[32m━━━━━━━━━━━━━━━━━━━━\u001b[0m\u001b[37m\u001b[0m \u001b[1m5s\u001b[0m 4ms/step - accuracy: 0.9372 - loss: 0.1625 - val_accuracy: 0.8845 - val_loss: 0.3554\n",
            "Epoch 3/10\n",
            "\u001b[1m1172/1172\u001b[0m \u001b[32m━━━━━━━━━━━━━━━━━━━━\u001b[0m\u001b[37m\u001b[0m \u001b[1m4s\u001b[0m 4ms/step - accuracy: 0.9592 - loss: 0.1139 - val_accuracy: 0.8886 - val_loss: 0.4165\n",
            "Epoch 4/10\n",
            "\u001b[1m1172/1172\u001b[0m \u001b[32m━━━━━━━━━━━━━━━━━━━━\u001b[0m\u001b[37m\u001b[0m \u001b[1m4s\u001b[0m 3ms/step - accuracy: 0.9705 - loss: 0.0851 - val_accuracy: 0.8818 - val_loss: 0.4809\n",
            "Epoch 5/10\n",
            "\u001b[1m1172/1172\u001b[0m \u001b[32m━━━━━━━━━━━━━━━━━━━━\u001b[0m\u001b[37m\u001b[0m \u001b[1m6s\u001b[0m 4ms/step - accuracy: 0.9802 - loss: 0.0550 - val_accuracy: 0.8765 - val_loss: 0.6051\n",
            "Epoch 6/10\n",
            "\u001b[1m1172/1172\u001b[0m \u001b[32m━━━━━━━━━━━━━━━━━━━━\u001b[0m\u001b[37m\u001b[0m \u001b[1m10s\u001b[0m 4ms/step - accuracy: 0.9795 - loss: 0.0612 - val_accuracy: 0.8861 - val_loss: 0.5885\n",
            "Epoch 7/10\n",
            "\u001b[1m1172/1172\u001b[0m \u001b[32m━━━━━━━━━━━━━━━━━━━━\u001b[0m\u001b[37m\u001b[0m \u001b[1m5s\u001b[0m 4ms/step - accuracy: 0.9869 - loss: 0.0389 - val_accuracy: 0.8864 - val_loss: 0.6496\n",
            "Epoch 8/10\n",
            "\u001b[1m1172/1172\u001b[0m \u001b[32m━━━━━━━━━━━━━━━━━━━━\u001b[0m\u001b[37m\u001b[0m \u001b[1m5s\u001b[0m 4ms/step - accuracy: 0.9865 - loss: 0.0383 - val_accuracy: 0.8874 - val_loss: 0.6619\n",
            "Epoch 9/10\n",
            "\u001b[1m1172/1172\u001b[0m \u001b[32m━━━━━━━━━━━━━━━━━━━━\u001b[0m\u001b[37m\u001b[0m \u001b[1m5s\u001b[0m 4ms/step - accuracy: 0.9898 - loss: 0.0308 - val_accuracy: 0.8819 - val_loss: 0.5734\n",
            "Epoch 10/10\n",
            "\u001b[1m1172/1172\u001b[0m \u001b[32m━━━━━━━━━━━━━━━━━━━━\u001b[0m\u001b[37m\u001b[0m \u001b[1m10s\u001b[0m 4ms/step - accuracy: 0.9911 - loss: 0.0274 - val_accuracy: 0.8821 - val_loss: 0.5299\n",
            "Restoring model weights from the end of the best epoch: 1.\n",
            "\u001b[1m782/782\u001b[0m \u001b[32m━━━━━━━━━━━━━━━━━━━━\u001b[0m\u001b[37m\u001b[0m \u001b[1m3s\u001b[0m 3ms/step - accuracy: 0.8759 - loss: 0.3450\n",
            "Test Loss: 0.34576573967933655\n",
            "Test Accuracy: 0.875\n"
          ]
        }
      ],
      "source": [
        "es_callback = keras.callbacks.EarlyStopping(\n",
        "    monitor='val_loss',# can be 'val_accuracy'\n",
        "    min_delta=0.001,\n",
        "    patience=10,  # if during 5 epochs there is no improvement in `val_loss`, the execution will stop\n",
        "    restore_best_weights=True,\n",
        "    verbose=1)\n",
        "\n",
        "\n",
        "model_imdb.compile(\n",
        "    optimizer='adam',\n",
        "    loss='binary_crossentropy',\n",
        "    metrics=['accuracy']\n",
        ")\n",
        "history = model_imdb.fit(x_train, y_train, validation_split=0.25, epochs= 10, batch_size=16, callbacks=[es_callback])\n",
        "\n",
        "results = model_imdb.evaluate(x_test, y_test, verbose=1)\n",
        "print('Test Loss: {}'.format(results[0]))\n",
        "print('Test Accuracy: {}'.format(results[1]))"
      ]
    },
    {
      "cell_type": "markdown",
      "metadata": {
        "id": "7Fs0IJXZtjvz"
      },
      "source": [
        "### Question 2: What happens if you reduce the size of the vocabulary `num_words`, compare results"
      ]
    },
    {
      "cell_type": "code",
      "execution_count": 16,
      "metadata": {
        "id": "OhPo2B86tjv0",
        "outputId": "80436204-7e81-44a6-bdab-c8f9c76800ca",
        "colab": {
          "base_uri": "https://localhost:8080/"
        }
      },
      "outputs": [
        {
          "output_type": "stream",
          "name": "stdout",
          "text": [
            "[1, 14, 22, 16, 43, 530, 973, 1622, 1385, 65, 458, 4468, 66, 3941, 4, 173, 36, 256, 5, 25, 100, 43, 838, 112, 50, 670, 2, 9, 35, 480, 284, 5, 150, 4, 172, 112, 167, 2, 336, 385, 39, 4, 172, 4536, 1111, 17, 546, 38, 13, 447, 4, 192, 50, 16, 6, 147, 2025, 19, 14, 22, 4, 1920, 4613, 469, 4, 22, 71, 87, 12, 16, 43, 530, 38, 76, 15, 13, 1247, 4, 22, 17, 515, 17, 12, 16, 626, 18, 2, 5, 62, 386, 12, 8, 316, 8, 106, 5, 4, 2223, 2, 16, 480, 66, 3785, 33, 4, 130, 12, 16, 38, 619, 5, 25, 124, 51, 36, 135, 48, 25, 1415, 33, 6, 22, 12, 215, 28, 77, 52, 5, 14, 407, 16, 82, 2, 8, 4, 107, 117, 2, 15, 256, 4, 2, 7, 3766, 5, 723, 36, 71, 43, 530, 476, 26, 400, 317, 46, 7, 4, 2, 1029, 13, 104, 88, 4, 381, 15, 297, 98, 32, 2071, 56, 26, 141, 6, 194, 2, 18, 4, 226, 22, 21, 134, 476, 26, 480, 5, 144, 30, 2, 18, 51, 36, 28, 224, 92, 25, 104, 4, 226, 65, 16, 38, 1334, 88, 12, 16, 283, 5, 16, 4472, 113, 103, 32, 15, 16, 2, 19, 178, 32]\n"
          ]
        },
        {
          "output_type": "execute_result",
          "data": {
            "text/plain": [
              "((25000, 5003), (25000,))"
            ]
          },
          "metadata": {},
          "execution_count": 16
        }
      ],
      "source": [
        "num_words = 5000\n",
        "(train_data, train_labels), (test_data, test_labels) = imdb.load_data(num_words=num_words)\n",
        "print(train_data[0])\n",
        "\n",
        "word2int = imdb.get_word_index()\n",
        "word2int = {w: i+3 for w, i in word2int.items()}\n",
        "word2int[\"<PAD>\"] = 0\n",
        "word2int[\"<START>\"] = 1\n",
        "word2int[\"<UNK>\"] = 2\n",
        "word2int[\"<UNUSED>\"] = 3\n",
        "int2word = {i: w for w, i in word2int.items()}\n",
        "num_words = num_words+3\n",
        "\n",
        "x_train = vectorize_sequences(train_data, num_words=num_words)\n",
        "x_test = vectorize_sequences(test_data, num_words=num_words)\n",
        "y_train =np.asarray(train_labels).astype('float32')\n",
        "y_test = np.asarray(test_labels).astype('float32')\n",
        "x_train.shape, y_train.shape"
      ]
    },
    {
      "cell_type": "code",
      "execution_count": 17,
      "metadata": {
        "id": "oxMgV5WLtjv0",
        "outputId": "230eeca9-0a17-4ba0-e95c-894c8ae91d64",
        "colab": {
          "base_uri": "https://localhost:8080/",
          "height": 429
        }
      },
      "outputs": [
        {
          "output_type": "stream",
          "name": "stderr",
          "text": [
            "/usr/local/lib/python3.11/dist-packages/keras/src/layers/core/input_layer.py:27: UserWarning: Argument `input_shape` is deprecated. Use `shape` instead.\n",
            "  warnings.warn(\n"
          ]
        },
        {
          "output_type": "display_data",
          "data": {
            "text/plain": [
              "\u001b[1mModel: \"sequential_2\"\u001b[0m\n"
            ],
            "text/html": [
              "<pre style=\"white-space:pre;overflow-x:auto;line-height:normal;font-family:Menlo,'DejaVu Sans Mono',consolas,'Courier New',monospace\"><span style=\"font-weight: bold\">Model: \"sequential_2\"</span>\n",
              "</pre>\n"
            ]
          },
          "metadata": {}
        },
        {
          "output_type": "display_data",
          "data": {
            "text/plain": [
              "┏━━━━━━━━━━━━━━━━━━━━━━━━━━━━━━━━━┳━━━━━━━━━━━━━━━━━━━━━━━━┳━━━━━━━━━━━━━━━┓\n",
              "┃\u001b[1m \u001b[0m\u001b[1mLayer (type)                   \u001b[0m\u001b[1m \u001b[0m┃\u001b[1m \u001b[0m\u001b[1mOutput Shape          \u001b[0m\u001b[1m \u001b[0m┃\u001b[1m \u001b[0m\u001b[1m      Param #\u001b[0m\u001b[1m \u001b[0m┃\n",
              "┡━━━━━━━━━━━━━━━━━━━━━━━━━━━━━━━━━╇━━━━━━━━━━━━━━━━━━━━━━━━╇━━━━━━━━━━━━━━━┩\n",
              "│ layer1 (\u001b[38;5;33mDense\u001b[0m)                  │ (\u001b[38;5;45mNone\u001b[0m, \u001b[38;5;34m256\u001b[0m)            │     \u001b[38;5;34m1,281,024\u001b[0m │\n",
              "├─────────────────────────────────┼────────────────────────┼───────────────┤\n",
              "│ dropout_6 (\u001b[38;5;33mDropout\u001b[0m)             │ (\u001b[38;5;45mNone\u001b[0m, \u001b[38;5;34m256\u001b[0m)            │             \u001b[38;5;34m0\u001b[0m │\n",
              "├─────────────────────────────────┼────────────────────────┼───────────────┤\n",
              "│ layer2 (\u001b[38;5;33mDense\u001b[0m)                  │ (\u001b[38;5;45mNone\u001b[0m, \u001b[38;5;34m128\u001b[0m)            │        \u001b[38;5;34m32,896\u001b[0m │\n",
              "├─────────────────────────────────┼────────────────────────┼───────────────┤\n",
              "│ dropout_7 (\u001b[38;5;33mDropout\u001b[0m)             │ (\u001b[38;5;45mNone\u001b[0m, \u001b[38;5;34m128\u001b[0m)            │             \u001b[38;5;34m0\u001b[0m │\n",
              "├─────────────────────────────────┼────────────────────────┼───────────────┤\n",
              "│ layer3 (\u001b[38;5;33mDense\u001b[0m)                  │ (\u001b[38;5;45mNone\u001b[0m, \u001b[38;5;34m96\u001b[0m)             │        \u001b[38;5;34m12,384\u001b[0m │\n",
              "├─────────────────────────────────┼────────────────────────┼───────────────┤\n",
              "│ dropout_8 (\u001b[38;5;33mDropout\u001b[0m)             │ (\u001b[38;5;45mNone\u001b[0m, \u001b[38;5;34m96\u001b[0m)             │             \u001b[38;5;34m0\u001b[0m │\n",
              "├─────────────────────────────────┼────────────────────────┼───────────────┤\n",
              "│ output_layer (\u001b[38;5;33mDense\u001b[0m)            │ (\u001b[38;5;45mNone\u001b[0m, \u001b[38;5;34m1\u001b[0m)              │            \u001b[38;5;34m97\u001b[0m │\n",
              "└─────────────────────────────────┴────────────────────────┴───────────────┘\n"
            ],
            "text/html": [
              "<pre style=\"white-space:pre;overflow-x:auto;line-height:normal;font-family:Menlo,'DejaVu Sans Mono',consolas,'Courier New',monospace\">┏━━━━━━━━━━━━━━━━━━━━━━━━━━━━━━━━━┳━━━━━━━━━━━━━━━━━━━━━━━━┳━━━━━━━━━━━━━━━┓\n",
              "┃<span style=\"font-weight: bold\"> Layer (type)                    </span>┃<span style=\"font-weight: bold\"> Output Shape           </span>┃<span style=\"font-weight: bold\">       Param # </span>┃\n",
              "┡━━━━━━━━━━━━━━━━━━━━━━━━━━━━━━━━━╇━━━━━━━━━━━━━━━━━━━━━━━━╇━━━━━━━━━━━━━━━┩\n",
              "│ layer1 (<span style=\"color: #0087ff; text-decoration-color: #0087ff\">Dense</span>)                  │ (<span style=\"color: #00d7ff; text-decoration-color: #00d7ff\">None</span>, <span style=\"color: #00af00; text-decoration-color: #00af00\">256</span>)            │     <span style=\"color: #00af00; text-decoration-color: #00af00\">1,281,024</span> │\n",
              "├─────────────────────────────────┼────────────────────────┼───────────────┤\n",
              "│ dropout_6 (<span style=\"color: #0087ff; text-decoration-color: #0087ff\">Dropout</span>)             │ (<span style=\"color: #00d7ff; text-decoration-color: #00d7ff\">None</span>, <span style=\"color: #00af00; text-decoration-color: #00af00\">256</span>)            │             <span style=\"color: #00af00; text-decoration-color: #00af00\">0</span> │\n",
              "├─────────────────────────────────┼────────────────────────┼───────────────┤\n",
              "│ layer2 (<span style=\"color: #0087ff; text-decoration-color: #0087ff\">Dense</span>)                  │ (<span style=\"color: #00d7ff; text-decoration-color: #00d7ff\">None</span>, <span style=\"color: #00af00; text-decoration-color: #00af00\">128</span>)            │        <span style=\"color: #00af00; text-decoration-color: #00af00\">32,896</span> │\n",
              "├─────────────────────────────────┼────────────────────────┼───────────────┤\n",
              "│ dropout_7 (<span style=\"color: #0087ff; text-decoration-color: #0087ff\">Dropout</span>)             │ (<span style=\"color: #00d7ff; text-decoration-color: #00d7ff\">None</span>, <span style=\"color: #00af00; text-decoration-color: #00af00\">128</span>)            │             <span style=\"color: #00af00; text-decoration-color: #00af00\">0</span> │\n",
              "├─────────────────────────────────┼────────────────────────┼───────────────┤\n",
              "│ layer3 (<span style=\"color: #0087ff; text-decoration-color: #0087ff\">Dense</span>)                  │ (<span style=\"color: #00d7ff; text-decoration-color: #00d7ff\">None</span>, <span style=\"color: #00af00; text-decoration-color: #00af00\">96</span>)             │        <span style=\"color: #00af00; text-decoration-color: #00af00\">12,384</span> │\n",
              "├─────────────────────────────────┼────────────────────────┼───────────────┤\n",
              "│ dropout_8 (<span style=\"color: #0087ff; text-decoration-color: #0087ff\">Dropout</span>)             │ (<span style=\"color: #00d7ff; text-decoration-color: #00d7ff\">None</span>, <span style=\"color: #00af00; text-decoration-color: #00af00\">96</span>)             │             <span style=\"color: #00af00; text-decoration-color: #00af00\">0</span> │\n",
              "├─────────────────────────────────┼────────────────────────┼───────────────┤\n",
              "│ output_layer (<span style=\"color: #0087ff; text-decoration-color: #0087ff\">Dense</span>)            │ (<span style=\"color: #00d7ff; text-decoration-color: #00d7ff\">None</span>, <span style=\"color: #00af00; text-decoration-color: #00af00\">1</span>)              │            <span style=\"color: #00af00; text-decoration-color: #00af00\">97</span> │\n",
              "└─────────────────────────────────┴────────────────────────┴───────────────┘\n",
              "</pre>\n"
            ]
          },
          "metadata": {}
        },
        {
          "output_type": "display_data",
          "data": {
            "text/plain": [
              "\u001b[1m Total params: \u001b[0m\u001b[38;5;34m1,326,401\u001b[0m (5.06 MB)\n"
            ],
            "text/html": [
              "<pre style=\"white-space:pre;overflow-x:auto;line-height:normal;font-family:Menlo,'DejaVu Sans Mono',consolas,'Courier New',monospace\"><span style=\"font-weight: bold\"> Total params: </span><span style=\"color: #00af00; text-decoration-color: #00af00\">1,326,401</span> (5.06 MB)\n",
              "</pre>\n"
            ]
          },
          "metadata": {}
        },
        {
          "output_type": "display_data",
          "data": {
            "text/plain": [
              "\u001b[1m Trainable params: \u001b[0m\u001b[38;5;34m1,326,401\u001b[0m (5.06 MB)\n"
            ],
            "text/html": [
              "<pre style=\"white-space:pre;overflow-x:auto;line-height:normal;font-family:Menlo,'DejaVu Sans Mono',consolas,'Courier New',monospace\"><span style=\"font-weight: bold\"> Trainable params: </span><span style=\"color: #00af00; text-decoration-color: #00af00\">1,326,401</span> (5.06 MB)\n",
              "</pre>\n"
            ]
          },
          "metadata": {}
        },
        {
          "output_type": "display_data",
          "data": {
            "text/plain": [
              "\u001b[1m Non-trainable params: \u001b[0m\u001b[38;5;34m0\u001b[0m (0.00 B)\n"
            ],
            "text/html": [
              "<pre style=\"white-space:pre;overflow-x:auto;line-height:normal;font-family:Menlo,'DejaVu Sans Mono',consolas,'Courier New',monospace\"><span style=\"font-weight: bold\"> Non-trainable params: </span><span style=\"color: #00af00; text-decoration-color: #00af00\">0</span> (0.00 B)\n",
              "</pre>\n"
            ]
          },
          "metadata": {}
        }
      ],
      "source": [
        "model_imdb = tf.keras.Sequential()\n",
        "model_imdb.add(layers.InputLayer(input_shape=(num_words,), name='input_layer'))  # entrada\n",
        "\n",
        "#layer1\n",
        "model_imdb.add(layers.Dense(256, activation='relu', name='layer1'))\n",
        "model_imdb.add(layers.Dropout(0.4))\n",
        "\n",
        "#layer2\n",
        "model_imdb.add(layers.Dense(128, activation='relu', name='layer2'))\n",
        "model_imdb.add(layers.Dropout(0.35))\n",
        "\n",
        "#layer3\n",
        "model_imdb.add(layers.Dense(96, activation='relu', name='layer3'))\n",
        "model_imdb.add(layers.Dropout(0.30))\n",
        "\n",
        "\n",
        "#output layer\n",
        "model_imdb.add(layers.Dense(1, activation='sigmoid', name='output_layer'))\n",
        "model_imdb.summary()"
      ]
    },
    {
      "cell_type": "code",
      "execution_count": 18,
      "metadata": {
        "id": "Y0uFVrC0tjv0",
        "outputId": "37bc654a-41e4-49cb-cb2b-0b99ab868656",
        "colab": {
          "base_uri": "https://localhost:8080/",
          "height": 983
        }
      },
      "outputs": [
        {
          "output_type": "stream",
          "name": "stdout",
          "text": [
            "Epoch 1/100\n",
            "\u001b[1m1172/1172\u001b[0m \u001b[32m━━━━━━━━━━━━━━━━━━━━\u001b[0m\u001b[37m\u001b[0m \u001b[1m11s\u001b[0m 7ms/step - accuracy: 0.7076 - loss: 0.5223 - val_accuracy: 0.8811 - val_loss: 0.2887\n",
            "Epoch 2/100\n",
            "\u001b[1m1172/1172\u001b[0m \u001b[32m━━━━━━━━━━━━━━━━━━━━\u001b[0m\u001b[37m\u001b[0m \u001b[1m5s\u001b[0m 3ms/step - accuracy: 0.8943 - loss: 0.2669 - val_accuracy: 0.8856 - val_loss: 0.2747\n",
            "Epoch 3/100\n",
            "\u001b[1m1172/1172\u001b[0m \u001b[32m━━━━━━━━━━━━━━━━━━━━\u001b[0m\u001b[37m\u001b[0m \u001b[1m5s\u001b[0m 4ms/step - accuracy: 0.9129 - loss: 0.2200 - val_accuracy: 0.8850 - val_loss: 0.2843\n",
            "Epoch 4/100\n",
            "\u001b[1m1172/1172\u001b[0m \u001b[32m━━━━━━━━━━━━━━━━━━━━\u001b[0m\u001b[37m\u001b[0m \u001b[1m4s\u001b[0m 4ms/step - accuracy: 0.9282 - loss: 0.1933 - val_accuracy: 0.8749 - val_loss: 0.3141\n",
            "Epoch 5/100\n",
            "\u001b[1m1172/1172\u001b[0m \u001b[32m━━━━━━━━━━━━━━━━━━━━\u001b[0m\u001b[37m\u001b[0m \u001b[1m4s\u001b[0m 3ms/step - accuracy: 0.9412 - loss: 0.1589 - val_accuracy: 0.8675 - val_loss: 0.3527\n",
            "Epoch 6/100\n",
            "\u001b[1m1172/1172\u001b[0m \u001b[32m━━━━━━━━━━━━━━━━━━━━\u001b[0m\u001b[37m\u001b[0m \u001b[1m4s\u001b[0m 4ms/step - accuracy: 0.9449 - loss: 0.1434 - val_accuracy: 0.8590 - val_loss: 0.4042\n",
            "Epoch 7/100\n",
            "\u001b[1m1172/1172\u001b[0m \u001b[32m━━━━━━━━━━━━━━━━━━━━\u001b[0m\u001b[37m\u001b[0m \u001b[1m5s\u001b[0m 4ms/step - accuracy: 0.9592 - loss: 0.1159 - val_accuracy: 0.8854 - val_loss: 0.3506\n",
            "Epoch 8/100\n",
            "\u001b[1m1172/1172\u001b[0m \u001b[32m━━━━━━━━━━━━━━━━━━━━\u001b[0m\u001b[37m\u001b[0m \u001b[1m5s\u001b[0m 4ms/step - accuracy: 0.9644 - loss: 0.1015 - val_accuracy: 0.8813 - val_loss: 0.3748\n",
            "Epoch 9/100\n",
            "\u001b[1m1172/1172\u001b[0m \u001b[32m━━━━━━━━━━━━━━━━━━━━\u001b[0m\u001b[37m\u001b[0m \u001b[1m6s\u001b[0m 4ms/step - accuracy: 0.9672 - loss: 0.0878 - val_accuracy: 0.8819 - val_loss: 0.4097\n",
            "Epoch 10/100\n",
            "\u001b[1m1172/1172\u001b[0m \u001b[32m━━━━━━━━━━━━━━━━━━━━\u001b[0m\u001b[37m\u001b[0m \u001b[1m4s\u001b[0m 3ms/step - accuracy: 0.9675 - loss: 0.0868 - val_accuracy: 0.8781 - val_loss: 0.4671\n",
            "Epoch 11/100\n",
            "\u001b[1m1172/1172\u001b[0m \u001b[32m━━━━━━━━━━━━━━━━━━━━\u001b[0m\u001b[37m\u001b[0m \u001b[1m4s\u001b[0m 4ms/step - accuracy: 0.9734 - loss: 0.0730 - val_accuracy: 0.8794 - val_loss: 0.5184\n",
            "Epoch 12/100\n",
            "\u001b[1m1172/1172\u001b[0m \u001b[32m━━━━━━━━━━━━━━━━━━━━\u001b[0m\u001b[37m\u001b[0m \u001b[1m4s\u001b[0m 3ms/step - accuracy: 0.9775 - loss: 0.0618 - val_accuracy: 0.8798 - val_loss: 0.5217\n",
            "Epoch 12: early stopping\n",
            "Restoring model weights from the end of the best epoch: 2.\n"
          ]
        },
        {
          "output_type": "display_data",
          "data": {
            "text/plain": [
              "<Figure size 1600x600 with 2 Axes>"
            ],
            "image/png": "[encoded data removed]"
          },
          "metadata": {}
        },
        {
          "output_type": "stream",
          "name": "stdout",
          "text": [
            "\u001b[1m782/782\u001b[0m \u001b[32m━━━━━━━━━━━━━━━━━━━━\u001b[0m\u001b[37m\u001b[0m \u001b[1m2s\u001b[0m 3ms/step - accuracy: 0.8761 - loss: 0.2908\n",
            "Test Loss: 0.28917041420936584\n",
            "Test Accuracy: 0.8791199922561646\n"
          ]
        }
      ],
      "source": [
        "es_callback = keras.callbacks.EarlyStopping(\n",
        "    monitor='val_loss',# can be 'val_accuracy'\n",
        "    min_delta=0.001,\n",
        "    patience=10,  # if during 5 epochs there is no improvement in `val_loss`, the execution will stop\n",
        "    restore_best_weights=True,\n",
        "    verbose=1)\n",
        "\n",
        "model_imdb.compile(\n",
        "    optimizer='adam',\n",
        "    loss='binary_crossentropy',\n",
        "    metrics=['accuracy']\n",
        ")\n",
        "history = model_imdb.fit(x_train, y_train, validation_split=0.25, epochs= 100, batch_size=16, callbacks=[es_callback])\n",
        "\n",
        "hist = pd.DataFrame(history.history)\n",
        "hist['epoch'] = history.epoch\n",
        "show_loss_accuracy_evolution(hist)\n",
        "results = model_imdb.evaluate(x_test, y_test, verbose=1)\n",
        "print('Test Loss: {}'.format(results[0]))\n",
        "print('Test Accuracy: {}'.format(results[1]))"
      ]
    },
    {
      "cell_type": "code",
      "execution_count": null,
      "metadata": {
        "id": "CNmeJ2P_tjv1"
      },
      "outputs": [],
      "source": [
        "reviews = [\n",
        "    'the film was really bad and i am very disappointed',\n",
        "    'The film was very funny entertaining and good we had a great time . brilliant film',\n",
        "    'this film was just brilliant', 'the movie is not bad',\n",
        "    'the movie is not bad I like it'\n",
        "]\n",
        "sequences = [\n",
        "    vectorize_text_sentence(review.lower(), word2int) for review in reviews\n",
        "]\n",
        "\n",
        "x_pred = vectorize_sequences(sequences, num_words=num_words)\n",
        "predictions = model.predict(x_pred)\n",
        "for review, pred in zip(reviews, predictions.flatten()):\n",
        "    print()\n",
        "    print(review)\n",
        "    print('Sentiment: ', np.round(pred, 2))"
      ]
    },
    {
      "cell_type": "markdown",
      "metadata": {
        "id": "vPdUtMsxtjv1"
      },
      "source": [
        "### Compare with other ML algorithms"
      ]
    },
    {
      "cell_type": "code",
      "execution_count": null,
      "metadata": {
        "id": "JmgVs0HFtjv2"
      },
      "outputs": [],
      "source": [
        "from sklearn.linear_model import LogisticRegression\n",
        "clr = LogisticRegression()\n",
        "clr.fit(x_train, y_train)\n",
        "val_acc = clr.score(x_test, y_test)\n",
        "print('Test Accuracy: {}'.format(val_acc))"
      ]
    },
    {
      "cell_type": "code",
      "execution_count": null,
      "metadata": {
        "id": "ytpDfQXptjv2"
      },
      "outputs": [],
      "source": [
        "from sklearn.ensemble import RandomForestClassifier\n",
        "rfc = RandomForestClassifier(max_depth=5, n_jobs=-1)\n",
        "rfc.fit(x_train, y_train)\n",
        "val_acc = rfc.score(x_test, y_test)\n",
        "print('Test Accuracy: {}'.format(val_acc))"
      ]
    },
    {
      "cell_type": "code",
      "execution_count": null,
      "metadata": {
        "id": "pmigsBGbtjv3"
      },
      "outputs": [],
      "source": [
        "from sklearn.ensemble import RandomForestClassifier\n",
        "rfc = RandomForestClassifier(n_jobs=-1)\n",
        "rfc.fit(x_train, y_train)\n",
        "val_acc = rfc.score(x_test, y_test)\n",
        "print('Test Accuracy: {}'.format(val_acc))"
      ]
    },
    {
      "cell_type": "code",
      "execution_count": null,
      "metadata": {
        "id": "nmFf83dgtjv3"
      },
      "outputs": [],
      "source": [
        "reviews = []\n",
        "# training reviews\n",
        "for ind in range(len(train_data)):\n",
        "    sentence = train_data[ind]\n",
        "    sentence_text = get_words(train_data[ind], int2word)\n",
        "    reviews.append(sentence_text)\n",
        "print('First training review: ', reviews[0])"
      ]
    }
  ],
  "metadata": {
    "kernelspec": {
      "display_name": "Python 3",
      "name": "python3"
    },
    "language_info": {
      "codemirror_mode": {
        "name": "ipython",
        "version": 3
      },
      "file_extension": ".py",
      "mimetype": "text/x-python",
      "name": "python",
      "nbconvert_exporter": "python",
      "pygments_lexer": "ipython3",
      "version": "3.9.15"
    },
    "latex_envs": {
      "LaTeX_envs_menu_present": true,
      "autoclose": false,
      "autocomplete": true,
      "bibliofile": "biblio.bib",
      "cite_by": "apalike",
      "current_citInitial": 1,
      "eqLabelWithNumbers": true,
      "eqNumInitial": 1,
      "hotkeys": {
        "equation": "Ctrl-E",
        "itemize": "Ctrl-I"
      },
      "labels_anchors": false,
      "latex_user_defs": false,
      "report_style_numbering": false,
      "user_envs_cfg": false
    },
    "toc": {
      "base_numbering": 1,
      "nav_menu": {},
      "number_sections": true,
      "sideBar": true,
      "skip_h1_title": false,
      "title_cell": "Table of Contents",
      "title_sidebar": "Contents",
      "toc_cell": false,
      "toc_position": {},
      "toc_section_display": true,
      "toc_window_display": false
    },
    "colab": {
      "provenance": [],
      "gpuType": "T4"
    },
    "accelerator": "GPU"
  },
  "nbformat": 4,
  "nbformat_minor": 0
}